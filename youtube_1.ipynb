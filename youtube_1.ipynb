{
  "nbformat": 4,
  "nbformat_minor": 0,
  "metadata": {
    "colab": {
      "provenance": []
    },
    "kernelspec": {
      "name": "python3",
      "display_name": "Python 3"
    },
    "language_info": {
      "name": "python"
    }
  },
  "cells": [
    {
      "cell_type": "markdown",
      "source": [
        "youtube_1"
      ],
      "metadata": {
        "id": "wAMOSBUJ2bWL"
      }
    },
    {
      "cell_type": "code",
      "execution_count": null,
      "metadata": {
        "id": "mK0Erqcs2PqC"
      },
      "outputs": [],
      "source": [
        "# list vs array\n",
        "# array : 적은 메모리로 데이터를 빠르게 처리하고 모든 원소는 같은 자료형을 가진다\n",
        "# list : 상대적으로 속도가 매우 느리고 원소가 각각 다른 자료형을 가질 수 있다."
      ]
    },
    {
      "cell_type": "code",
      "source": [
        "# ndarray\n",
        "# N-dimensional Array\n",
        "# 데이터 타입은 모두 동일함\n",
        "# 내부반복문을 사용함으로써 속도가 빠르다\n",
        "# 배열간에 산술 연산이 가능함"
      ],
      "metadata": {
        "id": "DDX6VfOR2o5-"
      },
      "execution_count": null,
      "outputs": []
    },
    {
      "cell_type": "code",
      "source": [
        "# dtype : 자료형 확인\n",
        "# astype : 자료형 변경\n",
        "# np.arange(start,stop,step) : step에 따라 증가하는 수열 생성\n",
        "# reshape : 만들어진 배열의 데이터를 그대로 가지고 형태를 바꿈"
      ],
      "metadata": {
        "id": "K5bYL0w93AQJ"
      },
      "execution_count": null,
      "outputs": []
    },
    {
      "cell_type": "code",
      "source": [
        "import numpy as np"
      ],
      "metadata": {
        "id": "XKf2OdAg3nqF"
      },
      "execution_count": 2,
      "outputs": []
    },
    {
      "cell_type": "code",
      "source": [
        "a = np.array([1,2,3])\n",
        "a\n",
        "print(a)"
      ],
      "metadata": {
        "colab": {
          "base_uri": "https://localhost:8080/"
        },
        "id": "lp5wR0cD3vgs",
        "outputId": "c933d583-8b0d-4626-81f9-3ecc5649673e"
      },
      "execution_count": null,
      "outputs": [
        {
          "output_type": "stream",
          "name": "stdout",
          "text": [
            "[1 2 3]\n"
          ]
        }
      ]
    },
    {
      "cell_type": "code",
      "source": [
        "a.dtype"
      ],
      "metadata": {
        "colab": {
          "base_uri": "https://localhost:8080/"
        },
        "id": "Znvk3FWW37gw",
        "outputId": "72e62c6d-6e57-42f5-8c34-19fdd926b7be"
      },
      "execution_count": null,
      "outputs": [
        {
          "output_type": "execute_result",
          "data": {
            "text/plain": [
              "dtype('int64')"
            ]
          },
          "metadata": {},
          "execution_count": 4
        }
      ]
    },
    {
      "cell_type": "code",
      "source": [
        "a = ['1','2','3']\n",
        "b = np.array(a, dtype=int)\n",
        "b"
      ],
      "metadata": {
        "id": "zB5VSngB4E71"
      },
      "execution_count": null,
      "outputs": []
    },
    {
      "cell_type": "code",
      "source": [
        "b.dtype"
      ],
      "metadata": {
        "colab": {
          "base_uri": "https://localhost:8080/"
        },
        "id": "VAaqWfWqVji5",
        "outputId": "3c661bdd-9636-49ae-9379-71ba3b553ef3"
      },
      "execution_count": 4,
      "outputs": [
        {
          "output_type": "execute_result",
          "data": {
            "text/plain": [
              "dtype('int64')"
            ]
          },
          "metadata": {},
          "execution_count": 4
        }
      ]
    },
    {
      "cell_type": "code",
      "source": [
        "data = [[1,2,3], [4,5,6], [7,8,9]]\n",
        "a = np.array(data)\n",
        "a"
      ],
      "metadata": {
        "colab": {
          "base_uri": "https://localhost:8080/"
        },
        "id": "cw1GvuTz4vDF",
        "outputId": "ae14d105-8bfe-4b5e-a26a-caf5f63cedbc"
      },
      "execution_count": null,
      "outputs": [
        {
          "output_type": "execute_result",
          "data": {
            "text/plain": [
              "array([[1, 2, 3],\n",
              "       [4, 5, 6],\n",
              "       [7, 8, 9]])"
            ]
          },
          "metadata": {},
          "execution_count": 6
        }
      ]
    },
    {
      "cell_type": "code",
      "source": [
        "x = np.arange(1,10,2)\n",
        "x"
      ],
      "metadata": {
        "colab": {
          "base_uri": "https://localhost:8080/"
        },
        "id": "Bym7xav345cw",
        "outputId": "89e82f96-ebd9-4046-d376-7a18c694de5d"
      },
      "execution_count": null,
      "outputs": [
        {
          "output_type": "execute_result",
          "data": {
            "text/plain": [
              "array([1, 3, 5, 7, 9])"
            ]
          },
          "metadata": {},
          "execution_count": 9
        }
      ]
    },
    {
      "cell_type": "code",
      "source": [
        "y = np.arange(1,10).reshape(3,3)\n",
        "y"
      ],
      "metadata": {
        "colab": {
          "base_uri": "https://localhost:8080/"
        },
        "id": "gsm6N6Hn5E6l",
        "outputId": "deb225b9-d34c-4950-da43-7c1467de68a8"
      },
      "execution_count": null,
      "outputs": [
        {
          "output_type": "execute_result",
          "data": {
            "text/plain": [
              "array([[1, 2, 3],\n",
              "       [4, 5, 6],\n",
              "       [7, 8, 9]])"
            ]
          },
          "metadata": {},
          "execution_count": 10
        }
      ]
    },
    {
      "cell_type": "code",
      "source": [
        "y[0,0]"
      ],
      "metadata": {
        "colab": {
          "base_uri": "https://localhost:8080/"
        },
        "id": "6f7iJf366PPA",
        "outputId": "835b0e9c-6bf1-4eb1-96ec-86d6337cc7a7"
      },
      "execution_count": null,
      "outputs": [
        {
          "output_type": "execute_result",
          "data": {
            "text/plain": [
              "1"
            ]
          },
          "metadata": {},
          "execution_count": 11
        }
      ]
    },
    {
      "cell_type": "code",
      "source": [
        "x1 = np.arange(1,9).reshape(2,4)\n",
        "x1"
      ],
      "metadata": {
        "colab": {
          "base_uri": "https://localhost:8080/"
        },
        "id": "rlUYlkgj67py",
        "outputId": "076b004c-197a-4929-f23d-034005b6c306"
      },
      "execution_count": null,
      "outputs": [
        {
          "output_type": "execute_result",
          "data": {
            "text/plain": [
              "array([[1, 2, 3, 4],\n",
              "       [5, 6, 7, 8]])"
            ]
          },
          "metadata": {},
          "execution_count": 14
        }
      ]
    },
    {
      "cell_type": "code",
      "source": [
        "x2 = np.arange(1,9).reshape(4,2)\n",
        "x2"
      ],
      "metadata": {
        "colab": {
          "base_uri": "https://localhost:8080/"
        },
        "id": "NS5sznUD7FMQ",
        "outputId": "6287f626-001c-4cce-8722-dbadb6207e9b"
      },
      "execution_count": null,
      "outputs": [
        {
          "output_type": "execute_result",
          "data": {
            "text/plain": [
              "array([[1, 2],\n",
              "       [3, 4],\n",
              "       [5, 6],\n",
              "       [7, 8]])"
            ]
          },
          "metadata": {},
          "execution_count": 16
        }
      ]
    },
    {
      "cell_type": "code",
      "source": [
        "x3 = np.arange(1,13).reshape(3,2,2) # 3덩어리 2행 2열\n",
        "x3"
      ],
      "metadata": {
        "colab": {
          "base_uri": "https://localhost:8080/"
        },
        "id": "R1tHCATn7ooc",
        "outputId": "1be562a5-6c9c-4a1e-a254-83a6cccef115"
      },
      "execution_count": 6,
      "outputs": [
        {
          "output_type": "execute_result",
          "data": {
            "text/plain": [
              "array([[[ 1,  2],\n",
              "        [ 3,  4]],\n",
              "\n",
              "       [[ 5,  6],\n",
              "        [ 7,  8]],\n",
              "\n",
              "       [[ 9, 10],\n",
              "        [11, 12]]])"
            ]
          },
          "metadata": {},
          "execution_count": 6
        }
      ]
    },
    {
      "cell_type": "code",
      "source": [
        "x3[2,1,1]"
      ],
      "metadata": {
        "colab": {
          "base_uri": "https://localhost:8080/"
        },
        "id": "7SqYKgeEWB7T",
        "outputId": "b4a015d3-a195-4022-8c91-f1a74a56d22d"
      },
      "execution_count": 11,
      "outputs": [
        {
          "output_type": "execute_result",
          "data": {
            "text/plain": [
              "12"
            ]
          },
          "metadata": {},
          "execution_count": 11
        }
      ]
    },
    {
      "cell_type": "code",
      "source": [
        "# 반복문을 사용하지 않아도 배열의 모든 원소는 반복 연산이 사용됨\n"
      ],
      "metadata": {
        "id": "tGJ2iTco8DnK"
      },
      "execution_count": null,
      "outputs": []
    },
    {
      "cell_type": "code",
      "source": [
        "a = np.array([1,2,3])\n",
        "b = 3\n",
        "print(a+b)\n",
        "print(a-b)"
      ],
      "metadata": {
        "colab": {
          "base_uri": "https://localhost:8080/"
        },
        "id": "fanQR5rz85C1",
        "outputId": "eb594aed-6419-424d-a102-f5cbee5046e1"
      },
      "execution_count": null,
      "outputs": [
        {
          "output_type": "stream",
          "name": "stdout",
          "text": [
            "[4 5 6]\n",
            "[-2 -1  0]\n"
          ]
        }
      ]
    },
    {
      "cell_type": "code",
      "source": [
        "data = np.arange(1,10).reshape(3,3)\n",
        "data"
      ],
      "metadata": {
        "colab": {
          "base_uri": "https://localhost:8080/"
        },
        "id": "v7m5ImQm9Cd6",
        "outputId": "aa3fb29a-bb1f-4381-b2ac-a74d62ec8c24"
      },
      "execution_count": null,
      "outputs": [
        {
          "output_type": "execute_result",
          "data": {
            "text/plain": [
              "array([[1, 2, 3],\n",
              "       [4, 5, 6],\n",
              "       [7, 8, 9]])"
            ]
          },
          "metadata": {},
          "execution_count": 19
        }
      ]
    },
    {
      "cell_type": "code",
      "source": [
        "data + data"
      ],
      "metadata": {
        "colab": {
          "base_uri": "https://localhost:8080/"
        },
        "id": "mnzhndyI9fEz",
        "outputId": "87d5a605-57df-4345-98e1-f3f1041c6935"
      },
      "execution_count": null,
      "outputs": [
        {
          "output_type": "execute_result",
          "data": {
            "text/plain": [
              "array([[ 2,  4,  6],\n",
              "       [ 8, 10, 12],\n",
              "       [14, 16, 18]])"
            ]
          },
          "metadata": {},
          "execution_count": 20
        }
      ]
    },
    {
      "cell_type": "code",
      "source": [
        "data - data"
      ],
      "metadata": {
        "colab": {
          "base_uri": "https://localhost:8080/"
        },
        "id": "yqBvAsrp97O_",
        "outputId": "de44a514-ce25-4b29-bfff-22db6d3e9f3d"
      },
      "execution_count": null,
      "outputs": [
        {
          "output_type": "execute_result",
          "data": {
            "text/plain": [
              "array([[0, 0, 0],\n",
              "       [0, 0, 0],\n",
              "       [0, 0, 0]])"
            ]
          },
          "metadata": {},
          "execution_count": 21
        }
      ]
    },
    {
      "cell_type": "code",
      "source": [
        "data * data"
      ],
      "metadata": {
        "colab": {
          "base_uri": "https://localhost:8080/"
        },
        "id": "Fb0f0dYg9-WU",
        "outputId": "efa950b0-4d2a-4c25-9852-519e2e9cc097"
      },
      "execution_count": null,
      "outputs": [
        {
          "output_type": "execute_result",
          "data": {
            "text/plain": [
              "array([[ 1,  4,  9],\n",
              "       [16, 25, 36],\n",
              "       [49, 64, 81]])"
            ]
          },
          "metadata": {},
          "execution_count": 22
        }
      ]
    },
    {
      "cell_type": "code",
      "source": [
        "np.dot(data,data)"
      ],
      "metadata": {
        "colab": {
          "base_uri": "https://localhost:8080/"
        },
        "id": "7D2yx63M-AG6",
        "outputId": "53827dd4-a564-4bc7-cb55-460c1c3f3c3f"
      },
      "execution_count": null,
      "outputs": [
        {
          "output_type": "execute_result",
          "data": {
            "text/plain": [
              "array([[ 30,  36,  42],\n",
              "       [ 66,  81,  96],\n",
              "       [102, 126, 150]])"
            ]
          },
          "metadata": {},
          "execution_count": 23
        }
      ]
    },
    {
      "cell_type": "code",
      "source": [
        "# 차원\n",
        "# 0차원 : scalar(하나의 데이터 값으로만 존재)\n",
        "# 1차원 : Vector(숫자들의 배열)\n",
        "# 2차원 : Matrix(행(array), 열(columns))\n",
        "# 3차원이상 : Tensor(다차원배열)\n"
      ],
      "metadata": {
        "id": "vgPZi2Eb-l8h"
      },
      "execution_count": null,
      "outputs": []
    },
    {
      "cell_type": "code",
      "source": [
        "a = np.array(1) # 0차원\n",
        "a\n",
        "print(a)\n",
        "print(a.shape)\n",
        "print(a.ndim)"
      ],
      "metadata": {
        "colab": {
          "base_uri": "https://localhost:8080/"
        },
        "id": "-4MzdgWo_zmd",
        "outputId": "97068b6c-fde7-4ea0-ada3-9cf7134135ab"
      },
      "execution_count": null,
      "outputs": [
        {
          "output_type": "stream",
          "name": "stdout",
          "text": [
            "1\n",
            "()\n",
            "0\n"
          ]
        }
      ]
    },
    {
      "cell_type": "code",
      "source": [
        "a = np.array([1]) # 1차원\n",
        "\n",
        "print(a)\n",
        "print(a.shape)\n",
        "print(a.ndim)"
      ],
      "metadata": {
        "colab": {
          "base_uri": "https://localhost:8080/"
        },
        "id": "iZUWiCtdANrO",
        "outputId": "4ab16f41-f2a5-4655-be68-8aa04aaad29e"
      },
      "execution_count": null,
      "outputs": [
        {
          "output_type": "stream",
          "name": "stdout",
          "text": [
            "[1]\n",
            "(1,)\n",
            "1\n"
          ]
        }
      ]
    },
    {
      "cell_type": "code",
      "source": [
        "a = np.array([1,2,1,2,1])\n",
        "\n",
        "print(a)\n",
        "print(a.shape)\n",
        "print(a.ndim)"
      ],
      "metadata": {
        "id": "iDSU3pfTBJiu",
        "colab": {
          "base_uri": "https://localhost:8080/"
        },
        "outputId": "dae19d88-9494-4797-fd1a-53abf7a69303"
      },
      "execution_count": 12,
      "outputs": [
        {
          "output_type": "stream",
          "name": "stdout",
          "text": [
            "[1 2 1 2 1]\n",
            "(5,)\n",
            "1\n"
          ]
        }
      ]
    },
    {
      "cell_type": "code",
      "source": [
        "a = np.array([[1,2,3], [4,5,6], [7,8,9]])\n",
        "\n",
        "print(a)\n",
        "print(a.shape)\n",
        "print(a.ndim)"
      ],
      "metadata": {
        "colab": {
          "base_uri": "https://localhost:8080/"
        },
        "id": "B4pqrhj7Bep2",
        "outputId": "63a2c90a-7f6e-4379-ce30-62a0a1a47fc6"
      },
      "execution_count": null,
      "outputs": [
        {
          "output_type": "stream",
          "name": "stdout",
          "text": [
            "[[1 2 3]\n",
            " [4 5 6]\n",
            " [7 8 9]]\n",
            "(3, 3)\n",
            "2\n"
          ]
        }
      ]
    },
    {
      "cell_type": "code",
      "source": [
        "# Tensor(다차원배열)"
      ],
      "metadata": {
        "id": "4AO7m-nKBYa4"
      },
      "execution_count": null,
      "outputs": []
    },
    {
      "cell_type": "code",
      "source": [
        "a = np.array([[[1,2],[3,4],[5,6]],[[7,8],[9,10],[11,12]]])\n",
        "print(a)\n",
        "print(a.shape)\n",
        "print(a.ndim)\n",
        "# 2덩어리 3행 2열"
      ],
      "metadata": {
        "colab": {
          "base_uri": "https://localhost:8080/"
        },
        "id": "YqIawR4FCa-e",
        "outputId": "ebff91a7-f2e4-4c79-c8e2-aab598b0123b"
      },
      "execution_count": null,
      "outputs": [
        {
          "output_type": "stream",
          "name": "stdout",
          "text": [
            "[[[ 1  2]\n",
            "  [ 3  4]\n",
            "  [ 5  6]]\n",
            "\n",
            " [[ 7  8]\n",
            "  [ 9 10]\n",
            "  [11 12]]]\n",
            "(2, 3, 2)\n",
            "3\n"
          ]
        }
      ]
    },
    {
      "cell_type": "code",
      "source": [
        "# 통계함수\n",
        "# sum, mean, max, min, std(표준편차), var(분산)"
      ],
      "metadata": {
        "id": "_5gldXJ9Cl3i"
      },
      "execution_count": null,
      "outputs": []
    },
    {
      "cell_type": "code",
      "source": [
        "a = np.arange(10).reshape(2,5)\n",
        "print(a)"
      ],
      "metadata": {
        "colab": {
          "base_uri": "https://localhost:8080/"
        },
        "id": "LA8_qqRfZpTz",
        "outputId": "cd1ee462-2b26-497d-ffd5-ae36a3002f55"
      },
      "execution_count": 19,
      "outputs": [
        {
          "output_type": "stream",
          "name": "stdout",
          "text": [
            "[[0 1 2 3 4]\n",
            " [5 6 7 8 9]]\n"
          ]
        }
      ]
    },
    {
      "cell_type": "code",
      "source": [
        "x = np.sum(a)\n",
        "print(x)"
      ],
      "metadata": {
        "colab": {
          "base_uri": "https://localhost:8080/"
        },
        "id": "3ysoQ6aqZ6Fh",
        "outputId": "4d1df0ed-5df3-4d5a-e384-e9cb258bd6b5"
      },
      "execution_count": 20,
      "outputs": [
        {
          "output_type": "stream",
          "name": "stdout",
          "text": [
            "45\n"
          ]
        }
      ]
    },
    {
      "cell_type": "code",
      "source": [
        "x = np.mean(a)\n",
        "print(x)"
      ],
      "metadata": {
        "colab": {
          "base_uri": "https://localhost:8080/"
        },
        "id": "DPb7CnUzd6jB",
        "outputId": "eecaeb0b-f459-4439-bb20-279ab26e5640"
      },
      "execution_count": 21,
      "outputs": [
        {
          "output_type": "stream",
          "name": "stdout",
          "text": [
            "4.5\n"
          ]
        }
      ]
    },
    {
      "cell_type": "code",
      "source": [
        "a[0][0] = 10\n",
        "print(a)"
      ],
      "metadata": {
        "colab": {
          "base_uri": "https://localhost:8080/"
        },
        "id": "bvnCjwv2eK5q",
        "outputId": "ddb4f229-7d3b-4562-c638-ee22386c93c9"
      },
      "execution_count": 22,
      "outputs": [
        {
          "output_type": "stream",
          "name": "stdout",
          "text": [
            "[[10  1  2  3  4]\n",
            " [ 5  6  7  8  9]]\n"
          ]
        }
      ]
    },
    {
      "cell_type": "code",
      "source": [
        "# 실전 문제\n",
        "\n",
        "import numpy as np\n",
        "점수 = np.array([80,88,90,95])\n",
        "단위 = np.array([3,2,1,4])\n",
        "print(점수*단위)\n",
        "총점 = sum(점수*단위)\n",
        "평균 = 총점/sum(단위)\n",
        "print('총점은:' ,총점, '평균은:' ,평균)\n",
        "print('총점은: {}, 평균은: {}'.format(총점, 평균))"
      ],
      "metadata": {
        "colab": {
          "base_uri": "https://localhost:8080/"
        },
        "id": "FT2lYPNqerqS",
        "outputId": "b17d64b6-9f07-4038-9c44-134c2bd0f42f"
      },
      "execution_count": 30,
      "outputs": [
        {
          "output_type": "stream",
          "name": "stdout",
          "text": [
            "[240 176  90 380]\n",
            "총점은: 886 평균은: 88.6\n",
            "총점은: 886, 평균은: 88.6\n"
          ]
        }
      ]
    },
    {
      "cell_type": "code",
      "source": [
        "점수 = np.array([80,88,90,95])\n",
        "평균 = np.mean(점수)\n",
        "print(평균)"
      ],
      "metadata": {
        "colab": {
          "base_uri": "https://localhost:8080/"
        },
        "id": "KwCU0pFEfy-a",
        "outputId": "a524411f-0eb2-45b6-c9b3-3512089e026e"
      },
      "execution_count": 26,
      "outputs": [
        {
          "output_type": "stream",
          "name": "stdout",
          "text": [
            "88.25\n"
          ]
        }
      ]
    },
    {
      "cell_type": "code",
      "source": [
        "import numpy as np\n",
        "Kcal = np.array([90,130,100,360])\n",
        "total = np.sum(Kcal)\n",
        "ave = np.mean(Kcal)\n",
        "H_K = max(Kcal)\n",
        "L_K = min(Kcal)\n",
        "print('총 Kcal:' , total)\n",
        "print('평균 Kcal:' , ave)\n",
        "print('가장높은 Kcal:', H_K)\n",
        "print('가장낮은 Kcal:', L_K)"
      ],
      "metadata": {
        "colab": {
          "base_uri": "https://localhost:8080/"
        },
        "id": "Z4bnzoyDg3s2",
        "outputId": "60e34193-ce5d-4e4e-cc4e-1f973251d7db"
      },
      "execution_count": 32,
      "outputs": [
        {
          "output_type": "stream",
          "name": "stdout",
          "text": [
            "총 Kcal: 680\n",
            "평균 Kcal: 170.0\n",
            "가장높은 Kcal: 360\n",
            "가장낮은 Kcal: 90\n"
          ]
        }
      ]
    },
    {
      "cell_type": "code",
      "source": [
        "import numpy as np\n",
        "국어 = np.array([88,95,70])\n",
        "영어 = np.array([90,80,90])\n",
        "수학 = np.array([65,75,55])\n",
        "\n",
        "print('국어총점:{}, 영어총점:{}, 수학총점:{}'.format(np.sum(국어), np.sum(영어), np.sum(수학)))\n",
        "print('국어평균:' ,np.mean(국어), '영어평균:' ,np.mean(영어), '수학평균:' ,np.mean(수학))\n",
        "print(max(국총,수총, 영총))\n",
        "print(min(국총, 수총, 영총))"
      ],
      "metadata": {
        "colab": {
          "base_uri": "https://localhost:8080/"
        },
        "id": "KDjtJvWIi9Og",
        "outputId": "94a09836-e5d1-4295-95e1-162b3d637982"
      },
      "execution_count": 38,
      "outputs": [
        {
          "output_type": "stream",
          "name": "stdout",
          "text": [
            "국어총점:253, 영어총점:260, 수학총점:195\n",
            "국어평균: 84.33333333333333 영어평균: 86.66666666666667 수학평균: 65.0\n",
            "260\n",
            "195\n"
          ]
        }
      ]
    },
    {
      "cell_type": "code",
      "source": [
        "round(3.1415926535,2)"
      ],
      "metadata": {
        "colab": {
          "base_uri": "https://localhost:8080/"
        },
        "id": "ZPfTc7X72YFg",
        "outputId": "089923fa-6f33-4258-f2f7-7ac0da9a8be3"
      },
      "execution_count": 39,
      "outputs": [
        {
          "output_type": "execute_result",
          "data": {
            "text/plain": [
              "3.14"
            ]
          },
          "metadata": {},
          "execution_count": 39
        }
      ]
    },
    {
      "cell_type": "code",
      "source": [
        "num = 1.415926535\n",
        "print('소수두자리에서 반올림: {:.2f}'.format(3.1415926535))\n",
        "print('또다른 반올림: {:.2f}'.format(num))"
      ],
      "metadata": {
        "colab": {
          "base_uri": "https://localhost:8080/"
        },
        "id": "jtDlYZkr2kjM",
        "outputId": "b1da29f4-57c2-4dc3-ca86-fac75d1baa20"
      },
      "execution_count": 40,
      "outputs": [
        {
          "output_type": "stream",
          "name": "stdout",
          "text": [
            "소수두자리에서 반올림: 3.14\n",
            "또다른 반올림: 1.42\n"
          ]
        }
      ]
    },
    {
      "cell_type": "code",
      "source": [
        "num = 1.415926535\n",
        "print(f'소수두자리에서 반올림: {3.1415926535:.2f}')\n",
        "print(f'또다른 반올림: {num:.2f}')"
      ],
      "metadata": {
        "colab": {
          "base_uri": "https://localhost:8080/"
        },
        "id": "u1ss24qn4Jc5",
        "outputId": "26d153f7-4389-4603-f149-29980f57cea9"
      },
      "execution_count": 41,
      "outputs": [
        {
          "output_type": "stream",
          "name": "stdout",
          "text": [
            "소수두자리에서 반올림: 3.14\n",
            "또다른 반올림: 1.42\n"
          ]
        }
      ]
    }
  ]
}